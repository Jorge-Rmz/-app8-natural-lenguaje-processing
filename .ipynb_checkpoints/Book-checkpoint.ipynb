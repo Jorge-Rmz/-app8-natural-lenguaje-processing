{
 "cells": [
  {
   "cell_type": "markdown",
   "id": "3e8dabdc-5b96-47ce-bc10-97cd677108ba",
   "metadata": {},
   "source": [
    "# Load the book"
   ]
  },
  {
   "cell_type": "code",
   "execution_count": 9,
   "id": "f9773952-d34b-4f49-9a1d-55073fba24f7",
   "metadata": {},
   "outputs": [
    {
     "data": {
      "text/plain": [
       "str"
      ]
     },
     "execution_count": 9,
     "metadata": {},
     "output_type": "execute_result"
    }
   ],
   "source": [
    "with open(\"miracle_in_the_andes.txt\", \"r\", encoding= \"utf-8\") as file: \n",
    "    book = file.read()\n",
    "type(book)"
   ]
  },
  {
   "cell_type": "markdown",
   "id": "f57191d4-a6ff-4929-99b5-9919034cfa49",
   "metadata": {},
   "source": [
    "# How many chapters?"
   ]
  },
  {
   "cell_type": "markdown",
   "id": "08377d98-1eae-48bb-bb45-b80cd8363d53",
   "metadata": {},
   "source": [
    "### Whit string methods"
   ]
  },
  {
   "cell_type": "code",
   "execution_count": 12,
   "id": "4864d492-70b1-4d0f-b95c-22defa55a797",
   "metadata": {},
   "outputs": [
    {
     "data": {
      "text/plain": [
       "11"
      ]
     },
     "execution_count": 12,
     "metadata": {},
     "output_type": "execute_result"
    }
   ],
   "source": [
    "book.count(\"Chapter\")"
   ]
  },
  {
   "cell_type": "markdown",
   "id": "4f3a80c9-2c86-485c-90fd-ada3ae922bdc",
   "metadata": {},
   "source": [
    "### regex"
   ]
  },
  {
   "cell_type": "code",
   "execution_count": 14,
   "id": "1efb6773-1f33-42ca-9838-a47a775a279e",
   "metadata": {},
   "outputs": [],
   "source": [
    "import re"
   ]
  },
  {
   "cell_type": "code",
   "execution_count": 17,
   "id": "b000d1e6-63c4-4fe9-93cb-5f1b0a8ab7d0",
   "metadata": {},
   "outputs": [],
   "source": [
    "pattern = re.compile(\"Chapter [0-9]+\")\n",
    "findings = re.findall(pattern,book)"
   ]
  },
  {
   "cell_type": "code",
   "execution_count": 18,
   "id": "f6a9a72a-b647-418e-93df-d93a2df67820",
   "metadata": {},
   "outputs": [
    {
     "data": {
      "text/plain": [
       "10"
      ]
     },
     "execution_count": 18,
     "metadata": {},
     "output_type": "execute_result"
    }
   ],
   "source": [
    "len(findings)"
   ]
  },
  {
   "cell_type": "markdown",
   "id": "df21c72e-c830-4252-bc3f-d68aaf5f3230",
   "metadata": {},
   "source": [
    "# Which are the sentences where \"love\" was used?"
   ]
  },
  {
   "cell_type": "code",
   "execution_count": 28,
   "id": "2ca7cb2f-313c-4961-af1d-e30df2a5a383",
   "metadata": {},
   "outputs": [],
   "source": [
    "pattern = re.compile(\"[A-Z]{1}[^.]*[a-zA-Z]+love[a-zA-Z]+[^.]*.\")\n",
    "findings = re.findall(pattern, book)"
   ]
  },
  {
   "cell_type": "code",
   "execution_count": 30,
   "id": "5b9f022f-854d-4b94-b995-858726b843d5",
   "metadata": {},
   "outputs": [
    {
     "data": {
      "text/plain": [
       "5"
      ]
     },
     "execution_count": 30,
     "metadata": {},
     "output_type": "execute_result"
    }
   ],
   "source": [
    "len(findings)"
   ]
  },
  {
   "cell_type": "markdown",
   "id": "f733db9b-deee-46bb-ac36-d2a0a0a6b3be",
   "metadata": {},
   "source": [
    "# What are the most used words?"
   ]
  },
  {
   "cell_type": "code",
   "execution_count": 35,
   "id": "80648ffd-074e-428d-b4ac-ef2a23a1be79",
   "metadata": {},
   "outputs": [],
   "source": [
    "pattern = re.compile(\"[a-zA-Z]+\")\n",
    "findings = re.findall(pattern, book.lower())"
   ]
  },
  {
   "cell_type": "code",
   "execution_count": 37,
   "id": "e968b7d1-f5a8-4a3a-ae6a-dea1fbfb0a35",
   "metadata": {},
   "outputs": [
    {
     "data": {
      "text/plain": [
       "['Chapter', 'Before', 'IT', 'WAS', 'FRIDAY']"
      ]
     },
     "execution_count": 37,
     "metadata": {},
     "output_type": "execute_result"
    }
   ],
   "source": [
    "findings[:5]"
   ]
  },
  {
   "cell_type": "code",
   "execution_count": 38,
   "id": "bb856174-ebaf-4f9c-ae82-591287099693",
   "metadata": {},
   "outputs": [],
   "source": [
    "d = {}"
   ]
  },
  {
   "cell_type": "code",
   "execution_count": 44,
   "id": "7acdc838-3d9f-4156-b83c-a19f4a98a256",
   "metadata": {},
   "outputs": [],
   "source": [
    "for word in findings:\n",
    "    if word in d.keys():\n",
    "        d[word] = d[word] + 1\n",
    "    else:\n",
    "        d[word] = 1"
   ]
  },
  {
   "cell_type": "code",
   "execution_count": 50,
   "id": "8c734691-143a-40a8-802b-95d1164d69dc",
   "metadata": {},
   "outputs": [
    {
     "data": {
      "text/plain": [
       "(5013, 'the')"
      ]
     },
     "execution_count": 50,
     "metadata": {},
     "output_type": "execute_result"
    }
   ],
   "source": [
    "d_list = [(value, key) for (key, value) in d.items()]\n",
    "sorted(d_list, reverse=True)[0]"
   ]
  },
  {
   "cell_type": "markdown",
   "id": "f7c67080-eb2b-4b5c-ae71-74fa741730c6",
   "metadata": {},
   "source": [
    "# Extract the pharagraphs where \"love\" was used"
   ]
  },
  {
   "cell_type": "code",
   "execution_count": 102,
   "id": "e6a3c5dd-47c8-4892-a032-acf755c157dc",
   "metadata": {},
   "outputs": [
    {
     "data": {
      "text/plain": [
       "60"
      ]
     },
     "execution_count": 102,
     "metadata": {},
     "output_type": "execute_result"
    }
   ],
   "source": [
    "pattern = re.compile(\"[^\\n]+love+[^\\n]+\")\n",
    "findings = re.findall(pattern, book)\n",
    "\n",
    "len(findings)"
   ]
  },
  {
   "cell_type": "markdown",
   "id": "9be55847-e020-4de7-b8d8-4f644046afcb",
   "metadata": {},
   "source": [
    "# Extract the chapter titles"
   ]
  },
  {
   "cell_type": "code",
   "execution_count": 81,
   "id": "a04b698d-262d-40c0-87b5-5dbec6705fd8",
   "metadata": {},
   "outputs": [
    {
     "data": {
      "text/plain": [
       "['Before',\n",
       " 'Everything Precious',\n",
       " 'A Promise',\n",
       " 'Breathe Once More',\n",
       " 'Abandoned',\n",
       " 'Tomb',\n",
       " 'East',\n",
       " 'The Opposite of Death',\n",
       " 'I See a Man',\n",
       " 'After']"
      ]
     },
     "execution_count": 81,
     "metadata": {},
     "output_type": "execute_result"
    }
   ],
   "source": [
    "pattern = re.compile(r\"Chapter \\d+\\n\\n(.*?)\\n\\n\", re.DOTALL)\n",
    "findings = re.findall(pattern, book)\n",
    "findings"
   ]
  },
  {
   "cell_type": "code",
   "execution_count": null,
   "id": "29516202-13d8-4cef-a348-fb440481d978",
   "metadata": {},
   "outputs": [],
   "source": []
  },
  {
   "cell_type": "markdown",
   "id": "45ffdbae-f624-4216-88f2-0cfbe4808411",
   "metadata": {},
   "source": [
    "# Function that finds the ocurrence of any word"
   ]
  },
  {
   "cell_type": "code",
   "execution_count": 113,
   "id": "188e3e9b-df34-43a6-983c-352d2b8738a0",
   "metadata": {},
   "outputs": [],
   "source": [
    "def ocurrence(word_arg):\n",
    "    pattern = re.compile(f\"{word_arg}\")\n",
    "    findings = re.findall(pattern, book.lower())\n",
    "    return findings"
   ]
  },
  {
   "cell_type": "markdown",
   "id": "81a532e1-eeb2-4efb-8cf9-8562de8e05e6",
   "metadata": {},
   "source": [
    "# Call the function"
   ]
  },
  {
   "cell_type": "code",
   "execution_count": 115,
   "id": "f5d88afd-9e11-419b-a9a2-e4c20f1ff003",
   "metadata": {},
   "outputs": [
    {
     "data": {
      "text/plain": [
       "7552"
      ]
     },
     "execution_count": 115,
     "metadata": {},
     "output_type": "execute_result"
    }
   ],
   "source": [
    "len(ocurrence(\"the\"))\n"
   ]
  },
  {
   "cell_type": "code",
   "execution_count": 104,
   "id": "4ab0cf09-c992-40e3-b65d-2e28a4d35fb0",
   "metadata": {},
   "outputs": [],
   "source": []
  },
  {
   "cell_type": "code",
   "execution_count": 105,
   "id": "0420f288-664a-4509-9940-5a6e78fa317c",
   "metadata": {},
   "outputs": [
    {
     "data": {
      "text/plain": [
       "115"
      ]
     },
     "execution_count": 105,
     "metadata": {},
     "output_type": "execute_result"
    }
   ],
   "source": []
  },
  {
   "cell_type": "code",
   "execution_count": null,
   "id": "2e14b900-7049-40c6-9c3b-5f5cdd4e7b82",
   "metadata": {},
   "outputs": [],
   "source": []
  }
 ],
 "metadata": {
  "kernelspec": {
   "display_name": "Python 3 (ipykernel)",
   "language": "python",
   "name": "python3"
  },
  "language_info": {
   "codemirror_mode": {
    "name": "ipython",
    "version": 3
   },
   "file_extension": ".py",
   "mimetype": "text/x-python",
   "name": "python",
   "nbconvert_exporter": "python",
   "pygments_lexer": "ipython3",
   "version": "3.12.4"
  }
 },
 "nbformat": 4,
 "nbformat_minor": 5
}
