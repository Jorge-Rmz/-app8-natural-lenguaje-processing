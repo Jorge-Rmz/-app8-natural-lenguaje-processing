{
 "cells": [
  {
   "cell_type": "markdown",
   "id": "3e8dabdc-5b96-47ce-bc10-97cd677108ba",
   "metadata": {},
   "source": [
    "# Load the book"
   ]
  },
  {
   "cell_type": "code",
   "execution_count": 24,
   "id": "f9773952-d34b-4f49-9a1d-55073fba24f7",
   "metadata": {},
   "outputs": [
    {
     "data": {
      "text/plain": [
       "str"
      ]
     },
     "execution_count": 24,
     "metadata": {},
     "output_type": "execute_result"
    }
   ],
   "source": [
    "with open(\"miracle_in_the_andes.txt\", \"r\", encoding= \"utf-8\") as file: \n",
    "    book = file.read()\n",
    "type(book)"
   ]
  },
  {
   "cell_type": "markdown",
   "id": "f57191d4-a6ff-4929-99b5-9919034cfa49",
   "metadata": {},
   "source": [
    "# How many chapters?"
   ]
  },
  {
   "cell_type": "markdown",
   "id": "08377d98-1eae-48bb-bb45-b80cd8363d53",
   "metadata": {},
   "source": [
    "### Whit string methods"
   ]
  },
  {
   "cell_type": "code",
   "execution_count": 25,
   "id": "4864d492-70b1-4d0f-b95c-22defa55a797",
   "metadata": {},
   "outputs": [
    {
     "data": {
      "text/plain": [
       "11"
      ]
     },
     "execution_count": 25,
     "metadata": {},
     "output_type": "execute_result"
    }
   ],
   "source": [
    "book.count(\"Chapter\")"
   ]
  },
  {
   "cell_type": "markdown",
   "id": "4f3a80c9-2c86-485c-90fd-ada3ae922bdc",
   "metadata": {},
   "source": [
    "### regex"
   ]
  },
  {
   "cell_type": "code",
   "execution_count": 26,
   "id": "1efb6773-1f33-42ca-9838-a47a775a279e",
   "metadata": {},
   "outputs": [],
   "source": [
    "import re"
   ]
  },
  {
   "cell_type": "code",
   "execution_count": 27,
   "id": "b000d1e6-63c4-4fe9-93cb-5f1b0a8ab7d0",
   "metadata": {},
   "outputs": [],
   "source": [
    "pattern = re.compile(\"Chapter [0-9]+\")\n",
    "findings = re.findall(pattern,book)"
   ]
  },
  {
   "cell_type": "code",
   "execution_count": 28,
   "id": "f6a9a72a-b647-418e-93df-d93a2df67820",
   "metadata": {},
   "outputs": [
    {
     "data": {
      "text/plain": [
       "10"
      ]
     },
     "execution_count": 28,
     "metadata": {},
     "output_type": "execute_result"
    }
   ],
   "source": [
    "len(findings)"
   ]
  },
  {
   "cell_type": "markdown",
   "id": "df21c72e-c830-4252-bc3f-d68aaf5f3230",
   "metadata": {},
   "source": [
    "# Which are the sentences where \"love\" was used?"
   ]
  },
  {
   "cell_type": "code",
   "execution_count": 29,
   "id": "2ca7cb2f-313c-4961-af1d-e30df2a5a383",
   "metadata": {},
   "outputs": [],
   "source": [
    "pattern = re.compile(\"[A-Z]{1}[^.]*[a-zA-Z]+love[a-zA-Z]+[^.]*.\")\n",
    "findings = re.findall(pattern, book)"
   ]
  },
  {
   "cell_type": "code",
   "execution_count": 30,
   "id": "5b9f022f-854d-4b94-b995-858726b843d5",
   "metadata": {},
   "outputs": [
    {
     "data": {
      "text/plain": [
       "5"
      ]
     },
     "execution_count": 30,
     "metadata": {},
     "output_type": "execute_result"
    }
   ],
   "source": [
    "len(findings)"
   ]
  },
  {
   "cell_type": "markdown",
   "id": "f733db9b-deee-46bb-ac36-d2a0a0a6b3be",
   "metadata": {},
   "source": [
    "# What are the most used words?"
   ]
  },
  {
   "cell_type": "code",
   "execution_count": 31,
   "id": "80648ffd-074e-428d-b4ac-ef2a23a1be79",
   "metadata": {},
   "outputs": [],
   "source": [
    "pattern = re.compile(\"[a-zA-Z]+\")\n",
    "findings = re.findall(pattern, book.lower())"
   ]
  },
  {
   "cell_type": "code",
   "execution_count": 32,
   "id": "e968b7d1-f5a8-4a3a-ae6a-dea1fbfb0a35",
   "metadata": {},
   "outputs": [
    {
     "data": {
      "text/plain": [
       "['chapter', 'before', 'it', 'was', 'friday']"
      ]
     },
     "execution_count": 32,
     "metadata": {},
     "output_type": "execute_result"
    }
   ],
   "source": [
    "findings[:5]"
   ]
  },
  {
   "cell_type": "code",
   "execution_count": 33,
   "id": "bb856174-ebaf-4f9c-ae82-591287099693",
   "metadata": {},
   "outputs": [],
   "source": [
    "d = {}"
   ]
  },
  {
   "cell_type": "code",
   "execution_count": 34,
   "id": "7acdc838-3d9f-4156-b83c-a19f4a98a256",
   "metadata": {},
   "outputs": [],
   "source": [
    "for word in findings:\n",
    "    if word in d.keys():\n",
    "        d[word] = d[word] + 1\n",
    "    else:\n",
    "        d[word] = 1"
   ]
  },
  {
   "cell_type": "code",
   "execution_count": 35,
   "id": "8c734691-143a-40a8-802b-95d1164d69dc",
   "metadata": {},
   "outputs": [
    {
     "data": {
      "text/plain": [
       "(5346, 'the')"
      ]
     },
     "execution_count": 35,
     "metadata": {},
     "output_type": "execute_result"
    }
   ],
   "source": [
    "d_list = [(value, key) for (key, value) in d.items()]\n",
    "sorted(d_list, reverse=True)[0]"
   ]
  },
  {
   "cell_type": "markdown",
   "id": "f7c67080-eb2b-4b5c-ae71-74fa741730c6",
   "metadata": {},
   "source": [
    "# Extract the pharagraphs where \"love\" was used"
   ]
  },
  {
   "cell_type": "code",
   "execution_count": 36,
   "id": "e6a3c5dd-47c8-4892-a032-acf755c157dc",
   "metadata": {},
   "outputs": [
    {
     "data": {
      "text/plain": [
       "60"
      ]
     },
     "execution_count": 36,
     "metadata": {},
     "output_type": "execute_result"
    }
   ],
   "source": [
    "pattern = re.compile(\"[^\\n]+love+[^\\n]+\")\n",
    "findings = re.findall(pattern, book)\n",
    "\n",
    "len(findings)"
   ]
  },
  {
   "cell_type": "markdown",
   "id": "9be55847-e020-4de7-b8d8-4f644046afcb",
   "metadata": {},
   "source": [
    "# Extract the chapter titles"
   ]
  },
  {
   "cell_type": "code",
   "execution_count": 37,
   "id": "a04b698d-262d-40c0-87b5-5dbec6705fd8",
   "metadata": {},
   "outputs": [
    {
     "data": {
      "text/plain": [
       "['Before',\n",
       " 'Everything Precious',\n",
       " 'A Promise',\n",
       " 'Breathe Once More',\n",
       " 'Abandoned',\n",
       " 'Tomb',\n",
       " 'East',\n",
       " 'The Opposite of Death',\n",
       " 'I See a Man',\n",
       " 'After']"
      ]
     },
     "execution_count": 37,
     "metadata": {},
     "output_type": "execute_result"
    }
   ],
   "source": [
    "pattern = re.compile(r\"Chapter \\d+\\n\\n(.*?)\\n\\n\", re.DOTALL)\n",
    "findings = re.findall(pattern, book)\n",
    "findings"
   ]
  },
  {
   "cell_type": "code",
   "execution_count": null,
   "id": "29516202-13d8-4cef-a348-fb440481d978",
   "metadata": {},
   "outputs": [],
   "source": []
  },
  {
   "cell_type": "markdown",
   "id": "45ffdbae-f624-4216-88f2-0cfbe4808411",
   "metadata": {},
   "source": [
    "# Function that finds the ocurrence of any word"
   ]
  },
  {
   "cell_type": "code",
   "execution_count": 38,
   "id": "188e3e9b-df34-43a6-983c-352d2b8738a0",
   "metadata": {},
   "outputs": [],
   "source": [
    "def ocurrence(word_arg):\n",
    "    pattern = re.compile(f\"{word_arg}\")\n",
    "    findings = re.findall(pattern, book.lower())\n",
    "    return findings"
   ]
  },
  {
   "cell_type": "markdown",
   "id": "81a532e1-eeb2-4efb-8cf9-8562de8e05e6",
   "metadata": {},
   "source": [
    "# Call the function"
   ]
  },
  {
   "cell_type": "code",
   "execution_count": 39,
   "id": "f5d88afd-9e11-419b-a9a2-e4c20f1ff003",
   "metadata": {},
   "outputs": [
    {
     "data": {
      "text/plain": [
       "7552"
      ]
     },
     "execution_count": 39,
     "metadata": {},
     "output_type": "execute_result"
    }
   ],
   "source": [
    "len(ocurrence(\"the\"))\n"
   ]
  },
  {
   "cell_type": "code",
   "execution_count": null,
   "id": "4ab0cf09-c992-40e3-b65d-2e28a4d35fb0",
   "metadata": {},
   "outputs": [],
   "source": []
  },
  {
   "cell_type": "code",
   "execution_count": null,
   "id": "0420f288-664a-4509-9940-5a6e78fa317c",
   "metadata": {},
   "outputs": [],
   "source": []
  },
  {
   "cell_type": "markdown",
   "id": "c2f98e10-c001-4967-9b6f-e62251294850",
   "metadata": {},
   "source": [
    "# Day 35"
   ]
  },
  {
   "cell_type": "code",
   "execution_count": 40,
   "id": "cbf7b906-82f9-491c-a6f3-0fe95db8a3ce",
   "metadata": {},
   "outputs": [
    {
     "name": "stderr",
     "output_type": "stream",
     "text": [
      "[nltk_data] Downloading package stopwords to\n",
      "[nltk_data]     C:\\Users\\jorge\\AppData\\Roaming\\nltk_data...\n",
      "[nltk_data]   Package stopwords is already up-to-date!\n"
     ]
    },
    {
     "data": {
      "text/plain": [
       "True"
      ]
     },
     "execution_count": 40,
     "metadata": {},
     "output_type": "execute_result"
    }
   ],
   "source": [
    "import nltk\n",
    "nltk.download('stopwords')"
   ]
  },
  {
   "cell_type": "code",
   "execution_count": 41,
   "id": "9e471cc3-9420-482c-a81a-c9570ebb46d3",
   "metadata": {},
   "outputs": [],
   "source": [
    "from nltk.corpus import stopwords"
   ]
  },
  {
   "cell_type": "code",
   "execution_count": 47,
   "id": "02ed5d89-ba82-4dd5-80e7-605b21a7575e",
   "metadata": {},
   "outputs": [
    {
     "data": {
      "text/plain": [
       "[(5346, 'the'), (2795, 'and'), (2729, 'i'), (2400, 'to'), (2060, 'of')]"
      ]
     },
     "execution_count": 47,
     "metadata": {},
     "output_type": "execute_result"
    }
   ],
   "source": [
    "english_stopwords = stopwords.words(\"english\")\n",
    "d_list = sorted(d_list, reverse=True)\n",
    "d_list[:5]"
   ]
  },
  {
   "cell_type": "code",
   "execution_count": 48,
   "id": "b3ba4a1a-ca40-46c3-a009-dfb964b7eb7b",
   "metadata": {},
   "outputs": [],
   "source": [
    "filtered_words = []"
   ]
  },
  {
   "cell_type": "code",
   "execution_count": 49,
   "id": "5a254b41-6860-46a5-a245-378af51b3cf1",
   "metadata": {},
   "outputs": [],
   "source": [
    "for count, word in d_list:\n",
    "    if word not in english_stopwords:\n",
    "        filtered_words.append((word, count))"
   ]
  },
  {
   "cell_type": "code",
   "execution_count": 51,
   "id": "8ef0e02a-d73c-441c-ad9e-f16750b38cd9",
   "metadata": {},
   "outputs": [
    {
     "data": {
      "text/plain": [
       "[('would', 575), ('us', 519), ('said', 292), ('roberto', 284)]"
      ]
     },
     "execution_count": 51,
     "metadata": {},
     "output_type": "execute_result"
    }
   ],
   "source": [
    "filtered_words[:4]"
   ]
  },
  {
   "cell_type": "code",
   "execution_count": null,
   "id": "c1b00443-c29b-434e-b01f-c3a2749f24fe",
   "metadata": {},
   "outputs": [],
   "source": []
  },
  {
   "cell_type": "markdown",
   "id": "99c11dba-afd1-48dc-a9c5-9352ef3c4a1d",
   "metadata": {},
   "source": [
    "# Sentiment Analysis: What is the most positive and the most negative chapter"
   ]
  },
  {
   "cell_type": "code",
   "execution_count": 65,
   "id": "1077497a-84ec-46b5-9255-b73c4a156223",
   "metadata": {},
   "outputs": [
    {
     "name": "stderr",
     "output_type": "stream",
     "text": [
      "[nltk_data] Downloading package vader_lexicon to\n",
      "[nltk_data]     C:\\Users\\jorge\\AppData\\Roaming\\nltk_data...\n"
     ]
    }
   ],
   "source": [
    "nltk.download('vader_lexicon')\n",
    "from nltk.sentiment import SentimentIntensityAnalyzer"
   ]
  },
  {
   "cell_type": "code",
   "execution_count": 67,
   "id": "bf9a7776-5467-488d-a76d-c313e5cfd60f",
   "metadata": {},
   "outputs": [],
   "source": [
    "analyzer = SentimentIntensityAnalyzer()\n",
    "scores = analyzer.polarity_scores(\"Hola, como estas\") "
   ]
  },
  {
   "cell_type": "code",
   "execution_count": 71,
   "id": "6749ca5f-9349-438d-9b67-f0371004578d",
   "metadata": {},
   "outputs": [
    {
     "name": "stdout",
     "output_type": "stream",
     "text": [
      "{'neg': 0.0, 'neu': 1.0, 'pos': 0.0, 'compound': 0.0}\n"
     ]
    }
   ],
   "source": [
    "print(scores)"
   ]
  },
  {
   "cell_type": "code",
   "execution_count": 74,
   "id": "bdda577c-1a84-4e23-acd8-3f19c1862139",
   "metadata": {},
   "outputs": [
    {
     "name": "stdout",
     "output_type": "stream",
     "text": [
      "It is a neutral text\n"
     ]
    }
   ],
   "source": [
    "if scores[\"pos\"] > scores[\"neg\"]:\n",
    "    print(\"It is a positive text\")\n",
    "elif scores[\"pos\"] == scores[\"neg\"]:\n",
    "    print(\"It is a neutral text\")\n",
    "else:\n",
    "    print(\"It is a negative text\")"
   ]
  },
  {
   "cell_type": "code",
   "execution_count": 75,
   "id": "15245aec-6b3f-4f4a-a3f4-3feb73de98c9",
   "metadata": {},
   "outputs": [
    {
     "data": {
      "text/plain": [
       "{'neg': 0.116, 'neu': 0.76, 'pos': 0.125, 'compound': 1.0}"
      ]
     },
     "execution_count": 75,
     "metadata": {},
     "output_type": "execute_result"
    }
   ],
   "source": [
    "analyzer.polarity_scores(book)"
   ]
  },
  {
   "cell_type": "markdown",
   "id": "c94656c1-fc5e-4204-b802-754c85e735b8",
   "metadata": {},
   "source": [
    "# Chapters sentiment analysis"
   ]
  },
  {
   "cell_type": "code",
   "execution_count": 78,
   "id": "3c507e3f-cf79-403d-bacd-b3c3082c9287",
   "metadata": {},
   "outputs": [],
   "source": [
    "pattern = re.compile(\"Chapter [0-9]*\")"
   ]
  },
  {
   "cell_type": "code",
   "execution_count": 79,
   "id": "b3c0df0f-5417-43cd-bce4-5c9176f3338a",
   "metadata": {},
   "outputs": [],
   "source": [
    "chapters = re.split(pattern, book)\n",
    "chapters = chapters[1:]"
   ]
  },
  {
   "cell_type": "code",
   "execution_count": 81,
   "id": "e2435740-6534-4629-9c94-6ce9abd3fe09",
   "metadata": {},
   "outputs": [
    {
     "data": {
      "text/plain": [
       "10"
      ]
     },
     "execution_count": 81,
     "metadata": {},
     "output_type": "execute_result"
    }
   ],
   "source": [
    "len(chapters)"
   ]
  },
  {
   "cell_type": "code",
   "execution_count": 85,
   "id": "a164b4cb-f98d-4c9d-9c59-2df4c3f2d332",
   "metadata": {},
   "outputs": [
    {
     "name": "stdout",
     "output_type": "stream",
     "text": [
      "1 {'neg': 0.061, 'neu': 0.779, 'pos': 0.16, 'compound': 1.0}\n",
      "2 {'neg': 0.12, 'neu': 0.726, 'pos': 0.154, 'compound': 0.9991}\n",
      "3 {'neg': 0.145, 'neu': 0.751, 'pos': 0.105, 'compound': -0.9999}\n",
      "4 {'neg': 0.141, 'neu': 0.721, 'pos': 0.138, 'compound': -0.9963}\n",
      "5 {'neg': 0.118, 'neu': 0.742, 'pos': 0.141, 'compound': 0.9997}\n",
      "6 {'neg': 0.124, 'neu': 0.761, 'pos': 0.115, 'compound': -0.9979}\n",
      "7 {'neg': 0.136, 'neu': 0.761, 'pos': 0.103, 'compound': -0.9999}\n",
      "8 {'neg': 0.12, 'neu': 0.786, 'pos': 0.094, 'compound': -0.9998}\n",
      "9 {'neg': 0.097, 'neu': 0.824, 'pos': 0.079, 'compound': -0.9996}\n",
      "10 {'neg': 0.086, 'neu': 0.733, 'pos': 0.181, 'compound': 1.0}\n"
     ]
    }
   ],
   "source": [
    "for nr, chapter in enumerate(chapters):\n",
    "    scores = analyzer.polarity_scores(chapter)\n",
    "    print(nr + 1, scores)"
   ]
  },
  {
   "cell_type": "code",
   "execution_count": null,
   "id": "fde35152-42af-431d-9a71-fedd0037ddda",
   "metadata": {},
   "outputs": [],
   "source": []
  },
  {
   "cell_type": "code",
   "execution_count": null,
   "id": "b331be8c-d1da-4b88-ba89-571ff7437498",
   "metadata": {},
   "outputs": [],
   "source": []
  }
 ],
 "metadata": {
  "kernelspec": {
   "display_name": "Python 3 (ipykernel)",
   "language": "python",
   "name": "python3"
  },
  "language_info": {
   "codemirror_mode": {
    "name": "ipython",
    "version": 3
   },
   "file_extension": ".py",
   "mimetype": "text/x-python",
   "name": "python",
   "nbconvert_exporter": "python",
   "pygments_lexer": "ipython3",
   "version": "3.12.4"
  }
 },
 "nbformat": 4,
 "nbformat_minor": 5
}
